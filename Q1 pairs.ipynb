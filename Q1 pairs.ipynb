{
 "cells": [
  {
   "cell_type": "code",
   "execution_count": 1,
   "id": "5a28a260",
   "metadata": {},
   "outputs": [
    {
     "name": "stdout",
     "output_type": "stream",
     "text": [
      "Pair found (8, 2)\n"
     ]
    }
   ],
   "source": [
    "def findPair(nums, target):\n",
    " \n",
    "    \n",
    "    for i in range(len(nums) - 1):\n",
    " \n",
    "        \n",
    "        for j in range(i + 1, len(nums)):\n",
    " \n",
    "            if nums[i] + nums[j] == target:\n",
    "                print('Pair found', (nums[i], nums[j]))\n",
    "                return\n",
    " \n",
    "\n",
    "    print('Pair not found')\n",
    "\n",
    "if __name__ == '__main__': \n",
    "    \n",
    "    nums = [8, 7, 2, 5, 3, 1]\n",
    "    target = 10\n",
    " \n",
    "    findPair(nums, target)"
   ]
  },
  {
   "cell_type": "code",
   "execution_count": null,
   "id": "ba6f8425",
   "metadata": {},
   "outputs": [],
   "source": []
  }
 ],
 "metadata": {
  "kernelspec": {
   "display_name": "Python 3 (ipykernel)",
   "language": "python",
   "name": "python3"
  },
  "language_info": {
   "codemirror_mode": {
    "name": "ipython",
    "version": 3
   },
   "file_extension": ".py",
   "mimetype": "text/x-python",
   "name": "python",
   "nbconvert_exporter": "python",
   "pygments_lexer": "ipython3",
   "version": "3.10.2"
  }
 },
 "nbformat": 4,
 "nbformat_minor": 5
}
