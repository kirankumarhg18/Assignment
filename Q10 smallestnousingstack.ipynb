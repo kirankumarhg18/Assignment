{
 "cells": [
  {
   "cell_type": "code",
   "execution_count": 1,
   "id": "a7f50239",
   "metadata": {},
   "outputs": [
    {
     "name": "stdout",
     "output_type": "stream",
     "text": [
      "6\n",
      "6\n",
      "5\n",
      "3\n",
      "5\n",
      "6\n"
     ]
    }
   ],
   "source": [
    "from collections import deque\n",
    "\n",
    "\n",
    "class MinStack:\n",
    "\tdef __init__(self):\n",
    "\t\t\n",
    "\t\tself.s = deque()\n",
    "\t\t\n",
    "\t\tself.min = None\n",
    "\n",
    "\t\n",
    "\tdef push(self, val):\n",
    "\t\tif not self.s:\n",
    "\t\t\tself.s.append(val)\n",
    "\t\t\tself.min = val\n",
    "\t\telif val > self.min:\n",
    "\t\t\tself.s.append(val)\n",
    "\t\telse:\n",
    "\t\t\tself.s.append(2*val - self.min)\n",
    "\t\t\tself.min = val\n",
    "\n",
    "\t\n",
    "\tdef pop(self):\n",
    "\t\tif not self.s:\n",
    "\t\t\tself.print('Stack underflow!!')\n",
    "\t\t\texit(-1)\n",
    "\t\ttop = self.s[-1]\n",
    "\t\tif top < self.min:\n",
    "\t\t\tself.min = 2*self.min - top\n",
    "\t\tself.s.pop()\n",
    "\n",
    "\t\n",
    "\tdef getMin(self):\n",
    "\t\treturn self.min\n",
    "\n",
    "\n",
    "if __name__ == '__main__':\n",
    "\n",
    "\ts = MinStack()\n",
    "\n",
    "\ts.push(6)\n",
    "\tprint(s.getMin())\n",
    "\n",
    "\ts.push(7)\n",
    "\tprint(s.getMin())\n",
    "\n",
    "\ts.push(5)\n",
    "\tprint(s.getMin())\n",
    "\n",
    "\ts.push(3)\n",
    "\tprint(s.getMin())\n",
    "\n",
    "\ts.pop()\n",
    "\tprint(s.getMin())\n",
    "\n",
    "\ts.pop()\n",
    "\tprint(s.getMin())"
   ]
  },
  {
   "cell_type": "code",
   "execution_count": null,
   "id": "5d9ec26b",
   "metadata": {},
   "outputs": [],
   "source": []
  }
 ],
 "metadata": {
  "kernelspec": {
   "display_name": "Python 3 (ipykernel)",
   "language": "python",
   "name": "python3"
  },
  "language_info": {
   "codemirror_mode": {
    "name": "ipython",
    "version": 3
   },
   "file_extension": ".py",
   "mimetype": "text/x-python",
   "name": "python",
   "nbconvert_exporter": "python",
   "pygments_lexer": "ipython3",
   "version": "3.10.2"
  }
 },
 "nbformat": 4,
 "nbformat_minor": 5
}
