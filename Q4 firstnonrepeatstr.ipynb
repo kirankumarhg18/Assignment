{
 "cells": [
  {
   "cell_type": "code",
   "execution_count": null,
   "id": "68f61d9f",
   "metadata": {},
   "outputs": [],
   "source": [
    "def firstNonRepeatingChar(str1):\n",
    "   char_order = []\n",
    "   counts = {}\n",
    "   for c in str1:\n",
    "      if c in counts:\n",
    "         counts[c] += 1\n",
    "      else:\n",
    "         counts[c] = 1\n",
    "         char_order.append(c)\n",
    "   for c in char_order:\n",
    "      if counts[c] == 1:\n",
    "       return c\n",
    "   return None\n",
    "\n",
    "print(firstNonRepeatingChar(input(\"Enter a String \")))"
   ]
  },
  {
   "cell_type": "code",
   "execution_count": null,
   "id": "72318aa9",
   "metadata": {},
   "outputs": [],
   "source": []
  },
  {
   "cell_type": "code",
   "execution_count": null,
   "id": "a21d16d2",
   "metadata": {},
   "outputs": [],
   "source": []
  }
 ],
 "metadata": {
  "kernelspec": {
   "display_name": "Python 3 (ipykernel)",
   "language": "python",
   "name": "python3"
  },
  "language_info": {
   "codemirror_mode": {
    "name": "ipython",
    "version": 3
   },
   "file_extension": ".py",
   "mimetype": "text/x-python",
   "name": "python",
   "nbconvert_exporter": "python",
   "pygments_lexer": "ipython3",
   "version": "3.10.2"
  }
 },
 "nbformat": 4,
 "nbformat_minor": 5
}
