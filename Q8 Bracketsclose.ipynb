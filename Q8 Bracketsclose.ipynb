{
 "cells": [
  {
   "cell_type": "code",
   "execution_count": 1,
   "id": "5ff55089",
   "metadata": {},
   "outputs": [
    {
     "name": "stdout",
     "output_type": "stream",
     "text": [
      "Given string brackets is closed : True\n"
     ]
    }
   ],
   "source": [
    "def isbalanced(s):\n",
    "  c= 0\n",
    "  ans=False\n",
    "  for i in s:\n",
    "    if i == \"(\": \n",
    "     c += 1\n",
    "    elif i == \")\":\n",
    "     c-= 1\n",
    "    if c < 0:\n",
    "     return ans\n",
    "    if c==0:\n",
    "     return not ans\n",
    "  return ans\n",
    "s=\"{[]}\"\n",
    "print(\"Given string brackets is closed :\",isbalanced(s))"
   ]
  },
  {
   "cell_type": "code",
   "execution_count": null,
   "id": "2564e520",
   "metadata": {},
   "outputs": [],
   "source": []
  }
 ],
 "metadata": {
  "kernelspec": {
   "display_name": "Python 3 (ipykernel)",
   "language": "python",
   "name": "python3"
  },
  "language_info": {
   "codemirror_mode": {
    "name": "ipython",
    "version": 3
   },
   "file_extension": ".py",
   "mimetype": "text/x-python",
   "name": "python",
   "nbconvert_exporter": "python",
   "pygments_lexer": "ipython3",
   "version": "3.10.2"
  }
 },
 "nbformat": 4,
 "nbformat_minor": 5
}
